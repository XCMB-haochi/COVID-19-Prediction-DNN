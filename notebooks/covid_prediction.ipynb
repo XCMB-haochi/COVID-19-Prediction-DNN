{
 "cells": [
  {
   "cell_type": "markdown",
   "metadata": {},
   "source": [
    "# 作业1: 基于DNN的新冠病例预测 (回归)\n",
    "\n",
    "使用深度神经网络（DNN）对COVID-19阳性病例进行回归预测。\n",
    "\n",
    "本代码基于PDF原始版本，仅修正特征选择错误。"
   ]
  },
  {
   "cell_type": "markdown",
   "metadata": {},
   "source": [
    "## 1. 数据声明"
   ]
  },
  {
   "cell_type": "code",
   "execution_count": 15,
   "metadata": {},
   "outputs": [],
   "source": [
    "tr_path = '../Data/covid.train.csv'  # 训练数据"
   ]
  },
  {
   "cell_type": "markdown",
   "metadata": {},
   "source": [
    "## 2. 使用包声明"
   ]
  },
  {
   "cell_type": "code",
   "execution_count": 16,
   "metadata": {},
   "outputs": [],
   "source": [
    "# PyTorch\n",
    "import torch\n",
    "import torch.nn as nn  # 神经网络\n",
    "from torch.utils.data import Dataset, DataLoader  # 数据集相关\n",
    "\n",
    "# For data preprocess\n",
    "import numpy as np  # 矩阵运算，用于计算梯度、更新神经网络等。\n",
    "import csv  # 数据表格的读写\n",
    "import os  # 系统驱动函数\n",
    "\n",
    "# 绘图相关\n",
    "import matplotlib.pyplot as plt\n",
    "from matplotlib.pyplot import figure\n",
    "\n",
    "# 设置随机种子\n",
    "myseed = 42069  # 随机种子\n",
    "torch.backends.cudnn.deterministic = True  # 采用确定的算法\n",
    "torch.backends.cudnn.benchmark = False  # 采用默认算法\n",
    "np.random.seed(myseed)\n",
    "torch.manual_seed(myseed)\n",
    "if torch.cuda.is_available():  # 如果使用显卡，则为显卡设置随机种子\n",
    "    torch.cuda.manual_seed_all(myseed)"
   ]
  },
  {
   "cell_type": "markdown",
   "metadata": {},
   "source": [
    "## 3. 函数定义"
   ]
  },
  {
   "cell_type": "code",
   "execution_count": 17,
   "metadata": {},
   "outputs": [],
   "source": [
    "def get_device():\n",
    "    '''Get device info (prioritize GPU)'''\n",
    "    return 'cuda' if torch.cuda.is_available() else 'cpu'\n",
    "\n",
    "def plot_learning_curve(loss_record, title=''):\n",
    "    '''Plot learning curve (loss curve)'''\n",
    "    total_steps = len(loss_record['train'])  # Number of training steps\n",
    "    x_1 = range(total_steps)\n",
    "    x_2 = x_1[::len(loss_record['train']) // len(loss_record['dev'])]  # Record dev loss every epoch\n",
    "    # One Batch equals one Training step\n",
    "    figure(figsize=(6, 4))\n",
    "    plt.plot(x_1, loss_record['train'], c='tab:red', label='Train')  # Training dataset\n",
    "    plt.plot(x_2, loss_record['dev'], c='tab:cyan', label='Validation')  # Validation dataset\n",
    "    plt.ylim(0.0, 5.)  # Constrain y-axis range\n",
    "    plt.xlabel('Training Steps')\n",
    "    plt.ylabel('MSE Loss')\n",
    "    plt.title('Learning Curve of {}'.format(title))\n",
    "    plt.legend()\n",
    "    plt.grid(True, alpha=0.3)\n",
    "    plt.show()\n",
    "\n",
    "def plot_pred(dv_set, model, device, lim=35., preds=None, targets=None):\n",
    "    '''Plot neural network accuracy'''\n",
    "    if preds is None or targets is None:\n",
    "        model.eval()  # Set model to evaluation mode\n",
    "        preds, targets = [], []\n",
    "        for x, y in dv_set:  # Validation dataset\n",
    "            x, y = x.to(device), y.to(device)  # Move to device\n",
    "            with torch.no_grad():\n",
    "                pred = model(x)\n",
    "                preds.append(pred.detach().cpu())\n",
    "                targets.append(y.detach().cpu())\n",
    "        preds = torch.cat(preds, dim=0).numpy()\n",
    "        targets = torch.cat(targets, dim=0).numpy()\n",
    "\n",
    "    figure(figsize=(5, 5))\n",
    "    plt.scatter(targets, preds, c='red', alpha=0.6, s=20)\n",
    "    plt.plot([-0.2, lim], [-0.2, lim], c='blue', linewidth=2, label='Perfect Prediction')\n",
    "    plt.xlim(-0.2, lim)\n",
    "    plt.ylim(-0.2, lim)\n",
    "    plt.xlabel('Ground Truth Value')\n",
    "    plt.ylabel('Predicted Value')\n",
    "    plt.title('Ground Truth vs. Prediction')\n",
    "    plt.legend()\n",
    "    plt.grid(True, alpha=0.3)\n",
    "    plt.show()"
   ]
  },
  {
   "cell_type": "markdown",
   "metadata": {},
   "source": [
    "## 4. 数据处理\n",
    "\n",
    "三种类型的数据:\n",
    "- train : 训练数据集\n",
    "- dev : 验证数据集  \n",
    "- test : 测试训练集 (无y的值)\n",
    "\n",
    "### 4.1 Dataset\n",
    "\n",
    "类 COVID19Dataset 的功能为:\n",
    "- 读取 .csv 文件\n",
    "- 提取数据属性（特征）\n",
    "- 将 covid.train.csv 分为训练数据集、验证数据集\n",
    "- 归一化数据属性\n",
    "\n",
    "TODO1: 实现读取第57、75列"
   ]
  },
  {
   "cell_type": "code",
   "execution_count": 18,
   "metadata": {},
   "outputs": [],
   "source": [
    "class COVID19Dataset(Dataset):\n",
    "    '''处理COVID19数据集的dataset类'''\n",
    "    def __init__(self, path, mode='train', target_only=False, norm_stats=None):\n",
    "        self.mode = mode\n",
    "        \n",
    "        # 读取数据至numpy数组\n",
    "        with open(path, 'r') as fp:\n",
    "            data = list(csv.reader(fp))\n",
    "            data = np.array(data[1:])[:, 1:].astype(float)\n",
    "        \n",
    "        if not target_only:  # 使用所有可用特征\n",
    "            if mode == 'test':\n",
    "                # 测试集：使用所有93列作为特征\n",
    "                feats = list(range(93))\n",
    "            else:\n",
    "                # 训练集：使用前93列作为特征（排除最后的目标列）\n",
    "                feats = list(range(93))\n",
    "        else:  # TODO1模式：只使用两个tested_positive列\n",
    "            if mode == 'test':\n",
    "                # 测试集中前两天的tested_positive位置\n",
    "                feats = [58, 76]  # 第59列和第77列（0-based索引）\n",
    "            else:\n",
    "                # 训练集中前两天的tested_positive位置\n",
    "                feats = [58, 76]  # 第59列和第77列（0-based索引）\n",
    "        \n",
    "        if mode == 'test':\n",
    "            # 测试数据集：93列特征\n",
    "            data = data[:, feats]\n",
    "            self.data = torch.FloatTensor(data)\n",
    "            \n",
    "            # 测试集使用训练集的归一化参数\n",
    "            if not target_only and norm_stats is not None:\n",
    "                train_mean, train_std = norm_stats\n",
    "                self.data[:, 40:] = (self.data[:, 40:] - train_mean) / train_std\n",
    "                \n",
    "        else:\n",
    "            # 训练数据集 (训练/验证)：94列总共，93列特征+1列目标\n",
    "            target = data[:, -1]  # 最后一列是要预测的tested_positive\n",
    "            data = data[:, feats]  # 使用对应的特征列\n",
    "            \n",
    "            # 将训练数据分为训练、验证数据集，即train & dev\n",
    "            if mode == 'train':  # 训练\n",
    "                indices = [i for i in range(len(data)) if i % 10 != 0]\n",
    "            elif mode == 'dev':  # 验证\n",
    "                indices = [i for i in range(len(data)) if i % 10 == 0]\n",
    "            \n",
    "            # 将数据转换为PyTorch tensors\n",
    "            self.data = torch.FloatTensor(data[indices])\n",
    "            self.target = torch.FloatTensor(target[indices])\n",
    "            \n",
    "            # 归一化数据 - 只在训练模式下计算统计参数\n",
    "            if not target_only:\n",
    "                if mode == 'train':\n",
    "                    # 训练集：计算并保存归一化参数\n",
    "                    self.train_mean = self.data[:, 40:].mean(dim=0, keepdim=True)\n",
    "                    self.train_std = self.data[:, 40:].std(dim=0, keepdim=True)\n",
    "                    self.data[:, 40:] = (self.data[:, 40:] - self.train_mean) / self.train_std\n",
    "                elif mode == 'dev' and norm_stats is not None:\n",
    "                    # 验证集：使用训练集的归一化参数\n",
    "                    train_mean, train_std = norm_stats\n",
    "                    self.data[:, 40:] = (self.data[:, 40:] - train_mean) / train_std\n",
    "        \n",
    "        self.dim = self.data.shape[1]\n",
    "        print('Finished reading the {} set of COVID19 Dataset ({} samples found, each dim = {})'\n",
    "              .format(mode, len(self.data), self.dim))\n",
    "    \n",
    "    def get_norm_stats(self):\n",
    "        '''返回训练集的归一化参数'''\n",
    "        if hasattr(self, 'train_mean') and hasattr(self, 'train_std'):\n",
    "            return self.train_mean, self.train_std\n",
    "        return None\n",
    "    \n",
    "    def __getitem__(self, index):\n",
    "        # 每次返回一个训练数据样本\n",
    "        if self.mode in ['train', 'dev']:\n",
    "            # 训练\n",
    "            return self.data[index], self.target[index]\n",
    "        else:\n",
    "            # 测试（没有target）\n",
    "            return self.data[index]\n",
    "    \n",
    "    def __len__(self):\n",
    "        # 返回数据集的大小\n",
    "        return len(self.data)"
   ]
  },
  {
   "cell_type": "markdown",
   "metadata": {},
   "source": [
    "### 4.2 DataLoader\n",
    "\n",
    "DataLoader 从 Dataset 中提取数据，并组装为Batch."
   ]
  },
  {
   "cell_type": "code",
   "execution_count": 19,
   "metadata": {},
   "outputs": [],
   "source": [
    "def prep_dataloader(path, mode, batch_size, n_jobs=0, target_only=False, norm_stats=None):\n",
    "    '''构建一个dataset,然后以Batch形式装载进dataloader.'''\n",
    "    dataset = COVID19Dataset(path, mode=mode, target_only=target_only, norm_stats=norm_stats)  # 构建dataset\n",
    "    dataloader = DataLoader(\n",
    "        dataset, batch_size,\n",
    "        shuffle=(mode == 'train'), drop_last=False,\n",
    "        num_workers=n_jobs, pin_memory=True)  # 构建dataloader\n",
    "    return dataloader"
   ]
  },
  {
   "cell_type": "markdown",
   "metadata": {},
   "source": [
    "## 5. 深度神经网络DNN\n",
    "\n",
    "TODO2: 网络架构优化\n",
    "TODO3: L2正则化"
   ]
  },
  {
   "cell_type": "code",
   "execution_count": 20,
   "metadata": {},
   "outputs": [],
   "source": [
    "class NeuralNet(nn.Module):\n",
    "    '''深度神经网络'''\n",
    "    def __init__(self, input_dim):\n",
    "        super(NeuralNet, self).__init__()\n",
    "        \n",
    "        # TODO2: 网络架构优化 (已完成)\n",
    "        # 改进: 增加网络深度，使用ReLU激活函数\n",
    "        self.net = nn.Sequential(\n",
    "            nn.Linear(input_dim, 16),\n",
    "            nn.ReLU(),\n",
    "            nn.Linear(16, 8),\n",
    "            nn.ReLU(),\n",
    "            nn.Linear(8, 4),\n",
    "            nn.ReLU(),\n",
    "            nn.Linear(4, 1)\n",
    "        )\n",
    "        \n",
    "        # 损失函数：采用均方误差\n",
    "        self.criterion = nn.MSELoss(reduction='mean')\n",
    "        \n",
    "        # L2正则化系数\n",
    "        self.l2_reg = 0.01\n",
    "    \n",
    "    def forward(self, x):\n",
    "        '''给定输入数据维度 (batch_size X input_dim), 计算网络的输出'''\n",
    "        return self.net(x).squeeze(1)\n",
    "    \n",
    "    def cal_loss(self, pred, target):\n",
    "        '''计算损失函数 - TODO3: L2正则化 (已完成)'''\n",
    "        mse_loss = self.criterion(pred, target)\n",
    "        \n",
    "        # 添加L2正则化惩罚项\n",
    "        l2_penalty = 0\n",
    "        for param in self.parameters():\n",
    "            if param.requires_grad and len(param.shape) > 1:  # 只对权重矩阵正则化\n",
    "                l2_penalty += torch.norm(param, 2) ** 2\n",
    "        \n",
    "        total_loss = mse_loss + self.l2_reg * l2_penalty\n",
    "        return total_loss"
   ]
  },
  {
   "cell_type": "markdown",
   "metadata": {},
   "source": [
    "## 6. 训练/验证"
   ]
  },
  {
   "cell_type": "code",
   "execution_count": 21,
   "metadata": {},
   "outputs": [],
   "source": [
    "def train(tr_set, dv_set, model, config, device):\n",
    "    '''训练DNN'''\n",
    "    n_epochs = config['n_epochs']  # 最大epochs\n",
    "    \n",
    "    # 设置优化器\n",
    "    optimizer = getattr(torch.optim, config['optimizer'])(\n",
    "        model.parameters(), **config['optim_hparas'])\n",
    "    \n",
    "    min_mse = 1000.\n",
    "    loss_record = {'train': [], 'dev': []}  # 记录训练、验证误差\n",
    "    early_stop_cnt = 0\n",
    "    epoch = 0\n",
    "    \n",
    "    while epoch < n_epochs:\n",
    "        model.train()  # 设置模型为\"训练\"状态\n",
    "        for x, y in tr_set:  # 每一个数据样本\n",
    "            optimizer.zero_grad()  # 梯度归零\n",
    "            x, y = x.to(device), y.to(device)  # 数据装载至设备 (cpu/cuda)\n",
    "            pred = model(x)  # 前向计算，得到输出\n",
    "            mse_loss = model.cal_loss(pred, y)  # 计算误差\n",
    "            mse_loss.backward()  # 计算梯度 (BP算法)\n",
    "            optimizer.step()  # 利用优化器，更新模型参数\n",
    "            loss_record['train'].append(mse_loss.detach().cpu().item())  # 记录误差\n",
    "        \n",
    "        # 每个epoch结束, 采用验证数据集测试.\n",
    "        dev_mse = dev(dv_set, model, device)\n",
    "        if dev_mse < min_mse:\n",
    "            # 若模型改进，即误差减小，则存储模型参数\n",
    "            min_mse = dev_mse\n",
    "            print('Saving model (epoch = {:4d}, loss = {:.4f})'\n",
    "                  .format(epoch + 1, min_mse))\n",
    "            torch.save(model.state_dict(), config['save_path'])  # 保存模型至\"save_path\"\n",
    "            early_stop_cnt = 0\n",
    "        else:\n",
    "            early_stop_cnt += 1  # 模型没有改进，则激活early stop机制\n",
    "        \n",
    "        epoch += 1\n",
    "        loss_record['dev'].append(dev_mse)  # 记录验证数据集的误差\n",
    "        \n",
    "        if early_stop_cnt > config['early_stop']:\n",
    "            # 若经过 \"config['early_stop']\" epochs，模型不再改进，则停止训练\n",
    "            break\n",
    "    \n",
    "    print('Finished training after {} epochs'.format(epoch))\n",
    "    return min_mse, loss_record\n",
    "\n",
    "def dev(dv_set, model, device):\n",
    "    '''验证'''\n",
    "    model.eval()  # 将模型调整为测试状态\n",
    "    total_loss = 0\n",
    "    for x, y in dv_set:  # 每一组验证数据\n",
    "        x, y = x.to(device), y.to(device)  # 装载数据至 (cpu/cuda)\n",
    "        with torch.no_grad():  # 禁用梯度\n",
    "            pred = model(x)  # 前向计算，得到网络的输出（预测）\n",
    "            mse_loss = model.cal_loss(pred, y)  # 计算损失\n",
    "            total_loss += mse_loss.detach().cpu().item() * len(x)  # 损失累加\n",
    "    total_loss = total_loss / len(dv_set.dataset)  # 求平均值\n",
    "    return total_loss"
   ]
  },
  {
   "cell_type": "markdown",
   "metadata": {},
   "source": [
    "## 7. 设置超参数\n",
    "\n",
    "TODO4: 训练参数优化"
   ]
  },
  {
   "cell_type": "code",
   "execution_count": 22,
   "metadata": {},
   "outputs": [],
   "source": [
    "# 修正后的配置\n",
    "config = {\n",
    "    'n_epochs': 2000,               # 训练epoch数\n",
    "    'batch_size': 32,             # batch size\n",
    "    'optimizer': 'Adam',           # 优化器\n",
    "    'optim_hparas': {             # 优化器超参数\n",
    "        'lr': 0.001,              # 学习率\n",
    "        'weight_decay': 0.001     # 添加weight decay\n",
    "    },\n",
    "    'early_stop': 2000,            # early stopping\n",
    "    'save_path': '../models/model.pth'  # 模型保存路径\n",
    "}"
   ]
  },
  {
   "cell_type": "markdown",
   "metadata": {},
   "source": [
    "## 8. 装载数据与模型"
   ]
  },
  {
   "cell_type": "code",
   "execution_count": 23,
   "metadata": {},
   "outputs": [
    {
     "name": "stdout",
     "output_type": "stream",
     "text": [
      "Finished reading the train set of COVID19 Dataset (1822 samples found, each dim = 93)\n",
      "Finished reading the dev set of COVID19 Dataset (203 samples found, each dim = 93)\n",
      "训练集特征维度: 93\n",
      "训练集样本数: 1822\n",
      "验证集样本数: 203\n"
     ]
    }
   ],
   "source": [
    "# 设置特征选择参数\n",
    "device = get_device()  # 获取当前可用的设备 ('cpu' 或 'cuda')\n",
    "target_only = False  # 使用所有93个特征\n",
    "\n",
    "# 先创建训练集，获取归一化参数\n",
    "tr_set = prep_dataloader(tr_path, 'train', config['batch_size'], target_only=target_only)  # 训练数据\n",
    "norm_stats = tr_set.dataset.get_norm_stats()  # 获取训练集的归一化参数\n",
    "\n",
    "# 使用训练集的归一化参数创建验证集和测试集\n",
    "dv_set = prep_dataloader(tr_path, 'dev', config['batch_size'], target_only=target_only, norm_stats=norm_stats)  # 验证数据\n",
    "\n",
    "print(f\"训练集特征维度: {tr_set.dataset.dim}\")\n",
    "print(f\"训练集样本数: {len(tr_set.dataset)}\")\n",
    "print(f\"验证集样本数: {len(dv_set.dataset)}\")\n",
    "\n",
    "model = NeuralNet(tr_set.dataset.dim).to(device)  # 创建神经网络模型"
   ]
  },
  {
   "cell_type": "markdown",
   "metadata": {},
   "source": [
    "## 9. 开始训练"
   ]
  },
  {
   "cell_type": "code",
   "execution_count": 24,
   "metadata": {},
   "outputs": [
    {
     "name": "stdout",
     "output_type": "stream",
     "text": [
      "Saving model (epoch =    1, loss = 304.2666)\n",
      "Saving model (epoch =    2, loss = 221.1426)\n",
      "Saving model (epoch =    3, loss = 81.4772)\n",
      "Saving model (epoch =    4, loss = 42.1778)\n",
      "Saving model (epoch =    5, loss = 32.5842)\n",
      "Saving model (epoch =    6, loss = 28.3222)\n",
      "Saving model (epoch =    7, loss = 24.9042)\n",
      "Saving model (epoch =    8, loss = 21.0691)\n",
      "Saving model (epoch =    9, loss = 17.9989)\n",
      "Saving model (epoch =   10, loss = 14.6672)\n",
      "Saving model (epoch =   11, loss = 11.8173)\n",
      "Saving model (epoch =   12, loss = 9.7098)\n",
      "Saving model (epoch =   13, loss = 8.1607)\n",
      "Saving model (epoch =   14, loss = 6.9920)\n",
      "Saving model (epoch =   15, loss = 6.2153)\n",
      "Saving model (epoch =   16, loss = 5.5625)\n",
      "Saving model (epoch =   17, loss = 5.0484)\n",
      "Saving model (epoch =   18, loss = 4.7694)\n",
      "Saving model (epoch =   19, loss = 4.4079)\n",
      "Saving model (epoch =   20, loss = 4.1499)\n",
      "Saving model (epoch =   21, loss = 3.9293)\n",
      "Saving model (epoch =   22, loss = 3.6853)\n",
      "Saving model (epoch =   23, loss = 3.5321)\n",
      "Saving model (epoch =   24, loss = 3.4414)\n",
      "Saving model (epoch =   25, loss = 3.3705)\n",
      "Saving model (epoch =   26, loss = 3.1865)\n",
      "Saving model (epoch =   27, loss = 3.1037)\n",
      "Saving model (epoch =   29, loss = 2.8713)\n",
      "Saving model (epoch =   30, loss = 2.8578)\n",
      "Saving model (epoch =   31, loss = 2.7386)\n",
      "Saving model (epoch =   32, loss = 2.7006)\n",
      "Saving model (epoch =   34, loss = 2.6759)\n",
      "Saving model (epoch =   35, loss = 2.6580)\n",
      "Saving model (epoch =   36, loss = 2.4894)\n",
      "Saving model (epoch =   37, loss = 2.4866)\n",
      "Saving model (epoch =   38, loss = 2.3774)\n",
      "Saving model (epoch =   40, loss = 2.3584)\n",
      "Saving model (epoch =   41, loss = 2.2631)\n",
      "Saving model (epoch =   42, loss = 2.2326)\n",
      "Saving model (epoch =   43, loss = 2.2196)\n",
      "Saving model (epoch =   45, loss = 2.2024)\n",
      "Saving model (epoch =   46, loss = 2.1075)\n",
      "Saving model (epoch =   49, loss = 2.0326)\n",
      "Saving model (epoch =   50, loss = 1.9735)\n",
      "Saving model (epoch =   51, loss = 1.9645)\n",
      "Saving model (epoch =   53, loss = 1.9527)\n",
      "Saving model (epoch =   54, loss = 1.9418)\n",
      "Saving model (epoch =   55, loss = 1.9031)\n",
      "Saving model (epoch =   56, loss = 1.8845)\n",
      "Saving model (epoch =   57, loss = 1.8335)\n",
      "Saving model (epoch =   59, loss = 1.7976)\n",
      "Saving model (epoch =   62, loss = 1.7182)\n",
      "Saving model (epoch =   63, loss = 1.6969)\n",
      "Saving model (epoch =   64, loss = 1.6685)\n",
      "Saving model (epoch =   67, loss = 1.6376)\n",
      "Saving model (epoch =   74, loss = 1.6079)\n",
      "Saving model (epoch =   75, loss = 1.6025)\n",
      "Saving model (epoch =   78, loss = 1.4930)\n",
      "Saving model (epoch =   80, loss = 1.4754)\n",
      "Saving model (epoch =   85, loss = 1.4054)\n",
      "Saving model (epoch =   90, loss = 1.3922)\n",
      "Saving model (epoch =   91, loss = 1.3853)\n",
      "Saving model (epoch =   94, loss = 1.3585)\n",
      "Saving model (epoch =  100, loss = 1.3202)\n",
      "Saving model (epoch =  108, loss = 1.3111)\n",
      "Saving model (epoch =  113, loss = 1.2816)\n",
      "Saving model (epoch =  118, loss = 1.2704)\n",
      "Saving model (epoch =  119, loss = 1.2653)\n",
      "Saving model (epoch =  121, loss = 1.2640)\n",
      "Saving model (epoch =  122, loss = 1.2624)\n",
      "Saving model (epoch =  126, loss = 1.2432)\n",
      "Saving model (epoch =  127, loss = 1.2315)\n",
      "Saving model (epoch =  134, loss = 1.2292)\n",
      "Saving model (epoch =  143, loss = 1.2006)\n",
      "Saving model (epoch =  147, loss = 1.1880)\n",
      "Saving model (epoch =  156, loss = 1.1810)\n",
      "Saving model (epoch =  165, loss = 1.1800)\n",
      "Saving model (epoch =  167, loss = 1.1629)\n",
      "Saving model (epoch =  173, loss = 1.1622)\n",
      "Saving model (epoch =  180, loss = 1.1490)\n",
      "Saving model (epoch =  197, loss = 1.1416)\n",
      "Saving model (epoch =  198, loss = 1.1235)\n",
      "Saving model (epoch =  229, loss = 1.1028)\n",
      "Saving model (epoch =  239, loss = 1.1014)\n",
      "Saving model (epoch =  248, loss = 1.0949)\n",
      "Saving model (epoch =  257, loss = 1.0920)\n",
      "Saving model (epoch =  290, loss = 1.0841)\n",
      "Saving model (epoch =  332, loss = 1.0831)\n",
      "Saving model (epoch =  334, loss = 1.0730)\n",
      "Saving model (epoch =  345, loss = 1.0655)\n",
      "Saving model (epoch =  442, loss = 1.0592)\n",
      "Saving model (epoch =  452, loss = 1.0503)\n",
      "Saving model (epoch =  501, loss = 1.0425)\n",
      "Saving model (epoch =  580, loss = 1.0419)\n",
      "Saving model (epoch =  599, loss = 1.0331)\n",
      "Saving model (epoch =  702, loss = 1.0301)\n",
      "Saving model (epoch =  729, loss = 1.0292)\n",
      "Saving model (epoch =  780, loss = 1.0216)\n",
      "Saving model (epoch =  870, loss = 1.0213)\n",
      "Saving model (epoch =  899, loss = 1.0177)\n",
      "Saving model (epoch =  978, loss = 1.0073)\n",
      "Finished training after 2000 epochs\n"
     ]
    }
   ],
   "source": [
    "model_loss, model_loss_record = train(tr_set, dv_set, model, config, device)"
   ]
  },
  {
   "cell_type": "code",
   "execution_count": 25,
   "metadata": {},
   "outputs": [
    {
     "data": {
      "image/png": "[encoded data removed]",
      "text/plain": [
       "<Figure size 600x400 with 1 Axes>"
      ]
     },
     "metadata": {},
     "output_type": "display_data"
    }
   ],
   "source": [
    "plot_learning_curve(model_loss_record, title='DNN')  # 绘图"
   ]
  },
  {
   "cell_type": "code",
   "execution_count": 26,
   "metadata": {},
   "outputs": [
    {
     "data": {
      "image/png": "[encoded data removed]",
      "text/plain": [
       "<Figure size 500x500 with 1 Axes>"
      ]
     },
     "metadata": {},
     "output_type": "display_data"
    }
   ],
   "source": [
    "del model\n",
    "model = NeuralNet(tr_set.dataset.dim).to(device)\n",
    "\n",
    "ckpt = torch.load(config['save_path'], map_location='cpu')  # 加载最佳的模型\n",
    "model.load_state_dict(ckpt)\n",
    "plot_pred(dv_set, model, device)  # 绘图：验证集上的预测情况"
   ]
  },
  {
   "cell_type": "markdown",
   "metadata": {},
   "source": [
    "## 10. 测试和预测\n",
    "\n",
    "将模型在测试数据集上的预测结果存储于 pred.csv"
   ]
  },
  {
   "cell_type": "code",
   "execution_count": 27,
   "metadata": {},
   "outputs": [],
   "source": [
    "def test(tt_set, model, device):\n",
    "    '''测试'''\n",
    "    model.eval()  # 将模型调整为测试状态\n",
    "    preds = []\n",
    "    for x in tt_set:  # 每一组\"测试\"数据（没有target，即y）\n",
    "        x = x.to(device)  # 装载数据至 (cpu/cuda)\n",
    "        with torch.no_grad():  # 禁用梯度\n",
    "            pred = model(x)  # 前向计算，得到网络的输出（预测）\n",
    "            preds.append(pred.detach().cpu())  # 记录计算结果\n",
    "    preds = torch.cat(preds, dim=0).numpy()  # 转换为 numpy array\n",
    "    return preds\n",
    "\n",
    "def save_pred(preds, file):\n",
    "    '''将预测结果存储于指定文件'''\n",
    "    print('Saving results to {}'.format(file))\n",
    "    with open(file, 'w') as fp:\n",
    "        writer = csv.writer(fp)\n",
    "        writer.writerow(['id', 'tested_positive'])\n",
    "        for i, p in enumerate(preds):\n",
    "            writer.writerow([i, p])"
   ]
  },
  {
   "cell_type": "code",
   "execution_count": 28,
   "metadata": {},
   "outputs": [
    {
     "name": "stdout",
     "output_type": "stream",
     "text": [
      "Finished reading the test set of COVID19 Dataset (675 samples found, each dim = 93)\n",
      "Saving results to pred.csv\n"
     ]
    }
   ],
   "source": [
    "tt_path = '../Data/covid.test.csv'  # 测试数据路径\n",
    "# 测试集使用训练集的归一化参数\n",
    "tt_set = prep_dataloader(tt_path, 'test', config['batch_size'], target_only=target_only, norm_stats=norm_stats)  # 测试数据\n",
    "\n",
    "preds = test(tt_set, model, device)  # 预测COVID-19\n",
    "save_pred(preds, 'pred.csv')  # 将数据存储至pred.csv"
   ]
  }
 ],
 "metadata": {
  "kernelspec": {
   "display_name": "SC_torch",
   "language": "python",
   "name": "python3"
  },
  "language_info": {
   "codemirror_mode": {
    "name": "ipython",
    "version": 3
   },
   "file_extension": ".py",
   "mimetype": "text/x-python",
   "name": "python",
   "nbconvert_exporter": "python",
   "pygments_lexer": "ipython3",
   "version": "3.12.11"
  }
 },
 "nbformat": 4,
 "nbformat_minor": 4
}
